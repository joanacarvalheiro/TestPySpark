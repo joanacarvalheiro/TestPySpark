{
 "cells": [
  {
   "cell_type": "code",
   "execution_count": 7,
   "metadata": {},
   "outputs": [],
   "source": [
    "from pyspark.sql import SparkSession"
   ]
  },
  {
   "cell_type": "code",
   "execution_count": 8,
   "metadata": {},
   "outputs": [],
   "source": [
    "spark = SparkSession.builder \\\n",
    "    .master(\"local\") \\\n",
    "    .appName(\"BigData\") \\\n",
    "    .config(\"spark.jars\", \"./PostgreSQL/postgresql-42.7.3.jar\") \\\n",
    "    .getOrCreate()\n"
   ]
  },
  {
   "cell_type": "code",
   "execution_count": 13,
   "metadata": {},
   "outputs": [],
   "source": [
    "spark.stop()"
   ]
  },
  {
   "cell_type": "markdown",
   "metadata": {},
   "source": [
    "# Variaveis conexão ao PostgreSql"
   ]
  },
  {
   "cell_type": "code",
   "execution_count": 9,
   "metadata": {},
   "outputs": [],
   "source": [
    "# Configure as propriedades de conexão\n",
    "properties = {\n",
    "    \"user\": \"postgres\",\n",
    "    \"password\": \"password@12345#\",\n",
    "    \"driver\": \"org.postgresql.Driver\"\n",
    "}\n",
    "\n",
    "# URL de conexão com o banco de dados PostgreSQL\n",
    "url = \"jdbc:postgresql://host.docker.internal:5434/bigdata\"\n",
    "\n",
    "#Nome da tabela \n",
    "table = \"testarspark\""
   ]
  },
  {
   "cell_type": "code",
   "execution_count": 10,
   "metadata": {},
   "outputs": [
    {
     "name": "stdout",
     "output_type": "stream",
     "text": [
      "+---+------+-----+--------------+\n",
      "| id|  nome|idade|nacionalidade |\n",
      "+---+------+-----+--------------+\n",
      "|  1| Joana|   25|            PT|\n",
      "|  2|Rafael|   27|            PT|\n",
      "|  3|  Rita|   15|            PT|\n",
      "|  4|   Ana|   16|            PT|\n",
      "|  5|  João|   20|            PT|\n",
      "+---+------+-----+--------------+\n",
      "\n"
     ]
    }
   ],
   "source": [
    "testarSpark = spark.read.csv('TestarSpark.csv', header=True) \n",
    "testarSpark.show(5)"
   ]
  },
  {
   "cell_type": "code",
   "execution_count": null,
   "metadata": {},
   "outputs": [],
   "source": [
    "# testarSpark.write \\\n",
    "#     .format(\"jdbc\") \\\n",
    "#     .option(\"url\", \"jdbc:postgresql://host.docker.internal:5434/bigdata\") \\\n",
    "#     .option(\"dbtable\", \"TestarSpark\") \\\n",
    "#     .option(\"user\", \"postgres\") \\\n",
    "#     .option(\"password\", \"password@12345#\") \\\n",
    "#     .option(\"driver\", \"org.postgresql.Driver\") \\\n",
    "#     .save()\n",
    "\n",
    "\n",
    "testarSpark.write.jdbc(url, \"testarspark\", properties=properties)\n"
   ]
  },
  {
   "cell_type": "code",
   "execution_count": 12,
   "metadata": {},
   "outputs": [
    {
     "name": "stdout",
     "output_type": "stream",
     "text": [
      "+---+------+\n",
      "| id|  nome|\n",
      "+---+------+\n",
      "|  1| Joana|\n",
      "|  2|Rafael|\n",
      "|  3|  Rita|\n",
      "|  4|   Ana|\n",
      "|  5|  João|\n",
      "+---+------+\n",
      "\n"
     ]
    }
   ],
   "source": [
    "\n",
    "query = f\"\"\"\n",
    "    SELECT id, nome\n",
    "    FROM {table}\n",
    "\"\"\"\n",
    "\n",
    "df = spark.read \\\n",
    "    .format(\"jdbc\") \\\n",
    "    .option(\"url\", url) \\\n",
    "    .option(\"query\", query) \\\n",
    "    .option(\"user\", properties['user']) \\\n",
    "    .option(\"password\", properties[\"password\"]) \\\n",
    "    .option(\"driver\", properties[\"driver\"]) \\\n",
    "    .load()\n",
    "\n",
    "\n",
    "\n",
    "# df = spark.read.jdbc(url, table, properties=properties)\n",
    "\n",
    "df.show()"
   ]
  }
 ],
 "metadata": {
  "kernelspec": {
   "display_name": "Python 3 (ipykernel)",
   "language": "python",
   "name": "python3"
  },
  "language_info": {
   "codemirror_mode": {
    "name": "ipython",
    "version": 3
   },
   "file_extension": ".py",
   "mimetype": "text/x-python",
   "name": "python",
   "nbconvert_exporter": "python",
   "pygments_lexer": "ipython3",
   "version": "3.11.6"
  }
 },
 "nbformat": 4,
 "nbformat_minor": 2
}
